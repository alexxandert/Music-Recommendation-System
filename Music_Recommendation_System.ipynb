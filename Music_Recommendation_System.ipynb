{
  "cells": [
    {
      "cell_type": "markdown",
      "metadata": {
        "id": "view-in-github",
        "colab_type": "text"
      },
      "source": [
        "<a href=\"https://colab.research.google.com/github/alexxandert/Music-Recommendation-System/blob/main/Music_Recommendation_System.ipynb\" target=\"_parent\"><img src=\"https://colab.research.google.com/assets/colab-badge.svg\" alt=\"Open In Colab\"/></a>"
      ]
    },
    {
      "cell_type": "code",
      "execution_count": null,
      "metadata": {
        "colab": {
          "base_uri": "https://localhost:8080/"
        },
        "id": "P_H8oxMm9h3r",
        "outputId": "6e952b15-d87c-430f-9168-0a1f40369f0b"
      },
      "outputs": [
        {
          "output_type": "stream",
          "name": "stdout",
          "text": [
            "Access token obtained successfully.\n"
          ]
        }
      ],
      "source": [
        "import requests #requests: Library for making HTTP requests.\n",
        "import base64   #base64: Handles Base64 encoding which is used to encode client ID and secret.\n",
        "import json     # json: Used for parsing JSON data.\n",
        "\n",
        "# Replace with your own Client ID and Client Secret\n",
        "CLIENT_ID = 'c7ad1cf57a7845ea9960daff1b4d5e15'\n",
        "CLIENT_SECRET = '54d206ee14684738b2f8976001bedddb'\n",
        "\n",
        "# Base64 encode the client ID and client secret\n",
        "client_credentials = f\"{CLIENT_ID}:{CLIENT_SECRET}\"\n",
        "client_credentials_base64 = base64.b64encode(client_credentials.encode())\n",
        "\n",
        "# Request the access token\n",
        "token_url = 'https://accounts.spotify.com/api/token'                 # The URL for obtaining the token is defined.\n",
        "headers = {\n",
        "    'Authorization': f'Basic {client_credentials_base64.decode()}'   # Headers contain the encoded client credentials in the format expected by Spotify.\n",
        "}\n",
        "data = {                                                             # The data specifies the type of authorization being requested, in this case,\n",
        "                                                                     #'client_credentials', which doesn't involve end-user authentication.\n",
        "    'grant_type': 'client_credentials'\n",
        "}\n",
        "\n",
        "\n",
        "response = requests.post(token_url, data=data, headers=headers)\n",
        "\n",
        "if response.status_code == 200:\n",
        "    access_token = response.json()['access_token']\n",
        "    print(\"Access token obtained successfully.\")\n",
        "else:\n",
        "    print(\"Error obtaining access token.\")\n",
        "    exit()"
      ]
    },
    {
      "cell_type": "code",
      "execution_count": null,
      "metadata": {
        "colab": {
          "base_uri": "https://localhost:8080/"
        },
        "id": "qYTPExQP96zW",
        "outputId": "af8987da-4057-4a4e-ec1f-26a73afb5d59"
      },
      "outputs": [
        {
          "output_type": "stream",
          "name": "stdout",
          "text": [
            "Requirement already satisfied: spotipy in /usr/local/lib/python3.10/dist-packages (2.23.0)\n",
            "Requirement already satisfied: redis>=3.5.3 in /usr/local/lib/python3.10/dist-packages (from spotipy) (5.0.0)\n",
            "Requirement already satisfied: requests>=2.25.0 in /usr/local/lib/python3.10/dist-packages (from spotipy) (2.31.0)\n",
            "Requirement already satisfied: six>=1.15.0 in /usr/local/lib/python3.10/dist-packages (from spotipy) (1.16.0)\n",
            "Requirement already satisfied: urllib3>=1.26.0 in /usr/local/lib/python3.10/dist-packages (from spotipy) (2.0.4)\n",
            "Requirement already satisfied: async-timeout>=4.0.2 in /usr/local/lib/python3.10/dist-packages (from redis>=3.5.3->spotipy) (4.0.3)\n",
            "Requirement already satisfied: charset-normalizer<4,>=2 in /usr/local/lib/python3.10/dist-packages (from requests>=2.25.0->spotipy) (3.2.0)\n",
            "Requirement already satisfied: idna<4,>=2.5 in /usr/local/lib/python3.10/dist-packages (from requests>=2.25.0->spotipy) (3.4)\n",
            "Requirement already satisfied: certifi>=2017.4.17 in /usr/local/lib/python3.10/dist-packages (from requests>=2.25.0->spotipy) (2023.7.22)\n"
          ]
        }
      ],
      "source": [
        "!pip install spotipy"
      ]
    },
    {
      "cell_type": "code",
      "execution_count": null,
      "metadata": {
        "id": "WGTNZ5PICvf9"
      },
      "outputs": [],
      "source": [
        "import pandas as pd\n",
        "import spotipy\n",
        "from spotipy.oauth2 import SpotifyOAuth\n",
        "\n",
        "def get_trending_playlist_data(playlist_id, access_token):\n",
        "    # Set up Spotipy with the access token/Initialize the spotipy.Spotify client\n",
        "    sp = spotipy.Spotify(auth=access_token)\n",
        "\n",
        "    # Get the tracks from the playlist\n",
        "    playlist_tracks = sp.playlist_tracks(playlist_id, fields='items(track(id, name, artists, album(id, name)))')\n",
        "\n",
        "    # Extract relevant information and store in a list of dictionaries\n",
        "    music_data = []\n",
        "    for track_info in playlist_tracks['items']:\n",
        "        track = track_info['track']\n",
        "        track_name = track['name']\n",
        "        artists = ', '.join([artist['name'] for artist in track['artists']])\n",
        "        album_name = track['album']['name']\n",
        "        album_id = track['album']['id']\n",
        "        track_id = track['id']\n",
        "\n",
        "        # Get audio features for the track\n",
        "        audio_features = sp.audio_features(track_id)[0] if track_id != 'Not available' else None\n",
        "\n",
        "        # Get release date of the album\n",
        "        try:\n",
        "            album_info = sp.album(album_id) if album_id != 'Not available' else None\n",
        "            release_date = album_info['release_date'] if album_info else None\n",
        "        except:\n",
        "            release_date = None\n",
        "\n",
        "        # Get popularity of the track\n",
        "        try:\n",
        "            track_info = sp.track(track_id) if track_id != 'Not available' else None\n",
        "            popularity = track_info['popularity'] if track_info else None\n",
        "        except:\n",
        "            popularity = None\n",
        "\n",
        "        # Add additional track information to the track data\n",
        "        track_data = {\n",
        "            'Track Name': track_name,\n",
        "            'Artists': artists,\n",
        "            'Album Name': album_name,\n",
        "            'Album ID': album_id,\n",
        "            'Track ID': track_id,\n",
        "            'Popularity': popularity,\n",
        "            'Release Date': release_date,\n",
        "            'Duration (ms)': audio_features['duration_ms'] if audio_features else None,\n",
        "            'Explicit': track_info.get('explicit', None),\n",
        "            'External URLs': track_info.get('external_urls', {}).get('spotify', None),\n",
        "            'Danceability': audio_features['danceability'] if audio_features else None,\n",
        "            'Energy': audio_features['energy'] if audio_features else None,\n",
        "            'Key': audio_features['key'] if audio_features else None,\n",
        "            'Loudness': audio_features['loudness'] if audio_features else None,\n",
        "            'Mode': audio_features['mode'] if audio_features else None,\n",
        "            'Speechiness': audio_features['speechiness'] if audio_features else None,\n",
        "            'Acousticness': audio_features['acousticness'] if audio_features else None,\n",
        "            'Instrumentalness': audio_features['instrumentalness'] if audio_features else None,\n",
        "            'Liveness': audio_features['liveness'] if audio_features else None,\n",
        "            'Valence': audio_features['valence'] if audio_features else None,\n",
        "            'Tempo': audio_features['tempo'] if audio_features else None,\n",
        "            # Add more attributes as needed\n",
        "        }\n",
        "\n",
        "        music_data.append(track_data)\n",
        "\n",
        "    # Create a pandas DataFrame from the list of dictionaries\n",
        "    df = pd.DataFrame(music_data)\n",
        "\n",
        "    return df"
      ]
    },
    {
      "cell_type": "code",
      "execution_count": null,
      "metadata": {
        "colab": {
          "base_uri": "https://localhost:8080/"
        },
        "id": "0Wcl3vcWCzXb",
        "outputId": "c02ae9d7-b111-45a6-c8bb-acb43b32eb02"
      },
      "outputs": [
        {
          "output_type": "stream",
          "name": "stdout",
          "text": [
            "                     Track Name                     Artists       Album Name  \\\n",
            "0                        Try Me           Karan Aujla, Ikky  Making Memories   \n",
            "1                       Cheques                       Shubh     Still Rollin   \n",
            "2                       Mi Amor        Sharn, 40k, The Paul          Mi Amor   \n",
            "3                      With You                  AP Dhillon         With You   \n",
            "4   Bachke Bachke (feat. Yarah)    Karan Aujla, Ikky, Yarah  Making Memories   \n",
            "..                          ...                         ...              ...   \n",
            "86                  Chan Vekhya                     Harnoor      Chan Vekhya   \n",
            "87                Haan Haige Aa  Karan Aujla, Gurlez Akhtar    Haan Haige Aa   \n",
            "88                Born to Shine              Diljit Dosanjh         G.O.A.T.   \n",
            "89                 Let 'em Play                 Karan Aujla     Let 'em Play   \n",
            "90                Bhalwani Gedi    Jassa Dhillon, Gur Sidhu        Above All   \n",
            "\n",
            "                  Album ID                Track ID  Popularity Release Date  \\\n",
            "0   3BGU0BqGwBkYDHpfCWFm7I  5RaK2eqyHaBSyjEtI27w3T          75   2023-08-18   \n",
            "1   5AivaZj0CiQJoDWqVH2pbh  4eBvRhTJ2AcxCsbfTUjoRp          88   2023-05-19   \n",
            "2   0azGrKHPYvl2MEKwQFfbV2  24MMjyA3NLqCsDJfsn51eg          83   2022-09-30   \n",
            "3   30eM1PJ8qLZJeEykhcje0j  0xIuPDzJSnJywALez8dwKR          85   2023-08-11   \n",
            "4   3BGU0BqGwBkYDHpfCWFm7I  2uWZ7EGddFlA1DJ3Rzzvs2          73   2023-08-18   \n",
            "..                     ...                     ...         ...          ...   \n",
            "86  7c8AsG2LEvK2smAbiuO2o2  246oVYRWuTz7rgAMdaQi6N          58   2021-04-26   \n",
            "87  5Hshd3sa7ZsIzo4EPdmgyo  3XQUm9KbQxla0ZtXh0cdGv          63   2020-07-27   \n",
            "88  0wkGNaTXbbxaD9QjvxlNGE  4XxfOvudrnBRdlgzEaq1sd          73   2020-07-29   \n",
            "89  3eo5DzbsNmG1KYZgwEUeLX  6S6HSSk9HzWe3pqvUJn6Vq          65   2020-05-26   \n",
            "90  5MIukl4CU37RkKANzs0UbG  6v1eVFNX8VmZQHY4woM9R6          60   2021-03-22   \n",
            "\n",
            "    Duration (ms)  Explicit  \\\n",
            "0          195361     False   \n",
            "1          183757     False   \n",
            "2          203049     False   \n",
            "3          154554     False   \n",
            "4          210118     False   \n",
            "..            ...       ...   \n",
            "86         210000     False   \n",
            "87         241711     False   \n",
            "88         213333     False   \n",
            "89         195652      True   \n",
            "90         207000     False   \n",
            "\n",
            "                                        External URLs  ...  Energy  Key  \\\n",
            "0   https://open.spotify.com/track/5RaK2eqyHaBSyjE...  ...   0.876    1   \n",
            "1   https://open.spotify.com/track/4eBvRhTJ2AcxCsb...  ...   0.627    4   \n",
            "2   https://open.spotify.com/track/24MMjyA3NLqCsDJ...  ...   0.703    4   \n",
            "3   https://open.spotify.com/track/0xIuPDzJSnJywAL...  ...   0.744    2   \n",
            "4   https://open.spotify.com/track/2uWZ7EGddFlA1DJ...  ...   0.541    3   \n",
            "..                                                ...  ...     ...  ...   \n",
            "86  https://open.spotify.com/track/246oVYRWuTz7rgA...  ...   0.579   10   \n",
            "87  https://open.spotify.com/track/3XQUm9KbQxla0Zt...  ...   0.854   11   \n",
            "88  https://open.spotify.com/track/4XxfOvudrnBRdlg...  ...   0.826    6   \n",
            "89  https://open.spotify.com/track/6S6HSSk9HzWe3pq...  ...   0.651    6   \n",
            "90  https://open.spotify.com/track/6v1eVFNX8VmZQHY...  ...   0.725    1   \n",
            "\n",
            "    Loudness  Mode  Speechiness  Acousticness  Instrumentalness  Liveness  \\\n",
            "0     -4.857     1       0.0642       0.00601          0.000000    0.6500   \n",
            "1     -8.939     0       0.0533       0.26200          0.000012    0.2690   \n",
            "2     -5.297     0       0.0789       0.53000          0.000004    0.1100   \n",
            "3     -4.773     1       0.0298       0.16100          0.001100    0.2010   \n",
            "4     -5.864     0       0.0861       0.39400          0.000000    0.3930   \n",
            "..       ...   ...          ...           ...               ...       ...   \n",
            "86    -6.375     0       0.1190       0.27000          0.000000    0.0994   \n",
            "87    -3.325     0       0.2010       0.01830          0.000000    0.1440   \n",
            "88    -4.339     0       0.0866       0.35700          0.000000    0.3020   \n",
            "89    -7.410     1       0.1510       0.01360          0.000003    0.0771   \n",
            "90    -6.171     0       0.1680       0.20000          0.000000    0.2510   \n",
            "\n",
            "    Valence    Tempo  \n",
            "0     0.397   97.244  \n",
            "1     0.356   89.998  \n",
            "2     0.553   81.990  \n",
            "3     0.925  116.978  \n",
            "4     0.461   88.086  \n",
            "..      ...      ...  \n",
            "86    0.423   79.924  \n",
            "87    0.543  140.039  \n",
            "88    0.674   90.149  \n",
            "89    0.747   92.015  \n",
            "90    0.563  159.775  \n",
            "\n",
            "[91 rows x 21 columns]\n"
          ]
        }
      ],
      "source": [
        "playlist_id = '37i9dQZF1DWXVJK4aT7pmk'\n",
        "\n",
        "# Call the function to get the music data from the playlist and store it in a DataFrame\n",
        "music_df = get_trending_playlist_data(playlist_id, access_token)\n",
        "\n",
        "# Display the DataFrame\n",
        "print(music_df)"
      ]
    },
    {
      "cell_type": "code",
      "execution_count": null,
      "metadata": {
        "colab": {
          "base_uri": "https://localhost:8080/"
        },
        "id": "lujuPROfC8xL",
        "outputId": "0fea6326-e396-4465-853f-41b065189395"
      },
      "outputs": [
        {
          "output_type": "stream",
          "name": "stdout",
          "text": [
            "Track Name          0\n",
            "Artists             0\n",
            "Album Name          0\n",
            "Album ID            0\n",
            "Track ID            0\n",
            "Popularity          0\n",
            "Release Date        0\n",
            "Duration (ms)       0\n",
            "Explicit            0\n",
            "External URLs       0\n",
            "Danceability        0\n",
            "Energy              0\n",
            "Key                 0\n",
            "Loudness            0\n",
            "Mode                0\n",
            "Speechiness         0\n",
            "Acousticness        0\n",
            "Instrumentalness    0\n",
            "Liveness            0\n",
            "Valence             0\n",
            "Tempo               0\n",
            "dtype: int64\n"
          ]
        }
      ],
      "source": [
        "print(music_df.isnull().sum())"
      ]
    },
    {
      "cell_type": "code",
      "execution_count": null,
      "metadata": {
        "id": "rGxFCC-FC85f"
      },
      "outputs": [],
      "source": [
        "import pandas as pd\n",
        "import numpy as np\n",
        "from sklearn.model_selection import train_test_split\n",
        "from sklearn.preprocessing import MinMaxScaler\n",
        "from datetime import datetime\n",
        "from sklearn.metrics.pairwise import cosine_similarity\n",
        "\n",
        "data = music_df"
      ]
    },
    {
      "cell_type": "code",
      "execution_count": null,
      "metadata": {
        "id": "H_kj9yfzDC8L"
      },
      "outputs": [],
      "source": [
        "# Function to calculate weighted popularity scores based on release date\n",
        "def calculate_weighted_popularity(release_date):\n",
        "    # Convert the release date to datetime object\n",
        "    release_date = datetime.strptime(release_date, '%Y-%m-%d')\n",
        "\n",
        "    # Calculate the time span between release date and today's date\n",
        "    time_span = datetime.now() - release_date\n",
        "\n",
        "    # Calculate the weighted popularity score based on time span (e.g., more recent releases have higher weight)\n",
        "    weight = 1 / (time_span.days + 1)\n",
        "    return weight"
      ]
    },
    {
      "cell_type": "code",
      "execution_count": null,
      "metadata": {
        "id": "ckq9E4L7DGY3"
      },
      "outputs": [],
      "source": [
        "# Normalize the music features using Min-Max scaling\n",
        "scaler = MinMaxScaler()\n",
        "music_features = music_df[['Danceability', 'Energy', 'Key',\n",
        "                           'Loudness', 'Mode', 'Speechiness', 'Acousticness',\n",
        "                           'Instrumentalness', 'Liveness', 'Valence', 'Tempo']].values\n",
        "music_features_scaled = scaler.fit_transform(music_features)"
      ]
    },
    {
      "cell_type": "code",
      "execution_count": null,
      "metadata": {
        "id": "i906tsDSDKeM"
      },
      "outputs": [],
      "source": [
        "# a function to get content-based recommendations based on music features\n",
        "def content_based_recommendations(input_song_name, num_recommendations=5):\n",
        "    if input_song_name not in music_df['Track Name'].values:\n",
        "        print(f\"'{input_song_name}' not found in the dataset. Please enter a valid song name.\")\n",
        "        return\n",
        "\n",
        "    # Get the index of the input song in the music DataFrame\n",
        "    input_song_index = music_df[music_df['Track Name'] == input_song_name].index[0]\n",
        "\n",
        "    # Calculate the similarity scores based on music features (cosine similarity)\n",
        "    similarity_scores = cosine_similarity([music_features_scaled[input_song_index]], music_features_scaled)\n",
        "\n",
        "    # Get the indices of the most similar songs\n",
        "    similar_song_indices = similarity_scores.argsort()[0][::-1][1:num_recommendations + 1]\n",
        "\n",
        "    # Get the names of the most similar songs based on content-based filtering\n",
        "    content_based_recommendations = music_df.iloc[similar_song_indices][['Track Name', 'Artists', 'Album Name', 'Release Date', 'Popularity']]\n",
        "\n",
        "    return content_based_recommendations"
      ]
    },
    {
      "cell_type": "code",
      "execution_count": null,
      "metadata": {
        "id": "efc88TZEDOsd"
      },
      "outputs": [],
      "source": [
        "# a function to get hybrid recommendations based on weighted popularity\n",
        "def hybrid_recommendations(input_song_name, num_recommendations=5, alpha=0.5):\n",
        "    if input_song_name not in music_df['Track Name'].values:\n",
        "        print(f\"'{input_song_name}' not found in the dataset. Please enter a valid song name.\")\n",
        "        return\n",
        "\n",
        "    # Get content-based recommendations\n",
        "    content_based_rec = content_based_recommendations(input_song_name, num_recommendations)\n",
        "\n",
        "    # Get the popularity score of the input song\n",
        "    popularity_score = music_df.loc[music_df['Track Name'] == input_song_name, 'Popularity'].values[0]\n",
        "\n",
        "    # Calculate the weighted popularity score\n",
        "    weighted_popularity_score = popularity_score * calculate_weighted_popularity(music_df.loc[music_df['Track Name'] == input_song_name, 'Release Date'].values[0])\n",
        "\n",
        "    # Combine content-based and popularity-based recommendations based on weighted popularity\n",
        "    hybrid_recommendations = content_based_rec\n",
        "    hybrid_recommendations = hybrid_recommendations.append({\n",
        "        'Track Name': input_song_name,\n",
        "        'Artists': music_df.loc[music_df['Track Name'] == input_song_name, 'Artists'].values[0],\n",
        "        'Album Name': music_df.loc[music_df['Track Name'] == input_song_name, 'Album Name'].values[0],\n",
        "        'Release Date': music_df.loc[music_df['Track Name'] == input_song_name, 'Release Date'].values[0],\n",
        "        'Popularity': weighted_popularity_score\n",
        "    }, ignore_index=True)\n",
        "\n",
        "    # Sort the hybrid recommendations based on weighted popularity score\n",
        "    hybrid_recommendations = hybrid_recommendations.sort_values(by='Popularity', ascending=False)\n",
        "\n",
        "    # Remove the input song from the recommendations\n",
        "    hybrid_recommendations = hybrid_recommendations[hybrid_recommendations['Track Name'] != input_song_name]\n",
        "\n",
        "\n",
        "    return hybrid_recommendations"
      ]
    },
    {
      "cell_type": "code",
      "execution_count": null,
      "metadata": {
        "id": "ItCxKpYdDSOH",
        "colab": {
          "base_uri": "https://localhost:8080/"
        },
        "outputId": "8d7cb974-9211-46a0-89ae-ca52d1d47555"
      },
      "outputs": [
        {
          "output_type": "stream",
          "name": "stdout",
          "text": [
            "Hybrid recommended songs for 'Still Rollin':\n",
            "    Track Name                      Artists    Album Name Release Date  \\\n",
            "0         Daku  Chani Nattan, Inderpal Moga          Daku   2021-01-16   \n",
            "2         Dior                        Shubh  Still Rollin   2023-05-19   \n",
            "1      DESIRES    AP Dhillon, Gurinder Gill   HIDDEN GEMS   2021-11-21   \n",
            "4  Showstopper                        JERRY   Showstopper   2023-07-21   \n",
            "3   Gall Khaas                    Zehr Vibe    Gall Khaas   2022-03-02   \n",
            "\n",
            "   Popularity  \n",
            "0        80.0  \n",
            "2        77.0  \n",
            "1        73.0  \n",
            "4        68.0  \n",
            "3        67.0  \n"
          ]
        },
        {
          "output_type": "stream",
          "name": "stderr",
          "text": [
            "<ipython-input-23-3de633f34e34>:18: FutureWarning: The frame.append method is deprecated and will be removed from pandas in a future version. Use pandas.concat instead.\n",
            "  hybrid_recommendations = hybrid_recommendations.append({\n"
          ]
        }
      ],
      "source": [
        "input_song_name = \"Still Rollin\"\n",
        "recommendations = hybrid_recommendations(input_song_name, num_recommendations=5)\n",
        "print(f\"Hybrid recommended songs for '{input_song_name}':\")\n",
        "print(recommendations)"
      ]
    }
  ],
  "metadata": {
    "colab": {
      "provenance": [],
      "authorship_tag": "ABX9TyM9LVQM3475v2CnVMH21C9l",
      "include_colab_link": true
    },
    "kernelspec": {
      "display_name": "Python 3",
      "name": "python3"
    },
    "language_info": {
      "name": "python"
    }
  },
  "nbformat": 4,
  "nbformat_minor": 0
}